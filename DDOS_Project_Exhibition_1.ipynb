{
  "nbformat": 4,
  "nbformat_minor": 0,
  "metadata": {
    "colab": {
      "name": "DDOS_Project_Exhibition_1",
      "provenance": [],
      "collapsed_sections": [],
      "authorship_tag": "ABX9TyOsAHJ0xXUkWrQrFYMp0Qas",
      "include_colab_link": true
    },
    "kernelspec": {
      "name": "python3",
      "display_name": "Python 3"
    },
    "language_info": {
      "name": "python"
    }
  },
  "cells": [
    {
      "cell_type": "markdown",
      "metadata": {
        "id": "view-in-github",
        "colab_type": "text"
      },
      "source": [
        "<a href=\"https://colab.research.google.com/github/21goldy/DevFest2.O/blob/main/DDOS_Project_Exhibition_1.ipynb\" target=\"_parent\"><img src=\"https://colab.research.google.com/assets/colab-badge.svg\" alt=\"Open In Colab\"/></a>"
      ]
    },
    {
      "cell_type": "code",
      "metadata": {
        "id": "MW91Bk8sF5bC"
      },
      "source": [
        "#@title Detection & Prevention of the Slowloris Attack utilizing the IsolationForest Algorithm & HTTP Port Blocking - [Group 16] { display-mode: \"form\" }\n"
      ],
      "execution_count": 1,
      "outputs": []
    },
    {
      "cell_type": "code",
      "metadata": {
        "id": "1m6XE9ARESRt"
      },
      "source": [
        "# importing the required modules of python \n",
        "\n",
        "import io\n",
        "import pandas as pd\n",
        "from google.colab import files"
      ],
      "execution_count": 2,
      "outputs": []
    },
    {
      "cell_type": "code",
      "metadata": {
        "colab": {
          "resources": {
            "http://localhost:8080/nbextensions/google.colab/files.js": {
              "data": "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",
              "ok": true,
              "headers": [
                [
                  "content-type",
                  "application/javascript"
                ]
              ],
              "status": 200,
              "status_text": ""
            }
          },
          "base_uri": "https://localhost:8080/",
          "height": 73
        },
        "id": "HHfOPXcOFDaL",
        "outputId": "807468d1-c166-45c2-cb48-7e075d215be6"
      },
      "source": [
        "upload_file = files.upload() # uploading the collected CSV from wireshark for DOS analysis and attack detection "
      ],
      "execution_count": 3,
      "outputs": [
        {
          "output_type": "display_data",
          "data": {
            "text/html": [
              "\n",
              "     <input type=\"file\" id=\"files-25c5e889-0b88-4aea-89b4-e9a2d08e1036\" name=\"files[]\" multiple disabled\n",
              "        style=\"border:none\" />\n",
              "     <output id=\"result-25c5e889-0b88-4aea-89b4-e9a2d08e1036\">\n",
              "      Upload widget is only available when the cell has been executed in the\n",
              "      current browser session. Please rerun this cell to enable.\n",
              "      </output>\n",
              "      <script src=\"/nbextensions/google.colab/files.js\"></script> "
            ],
            "text/plain": [
              "<IPython.core.display.HTML object>"
            ]
          },
          "metadata": {}
        },
        {
          "output_type": "stream",
          "name": "stdout",
          "text": [
            "Saving ddos_test1.csv to ddos_test1.csv\n"
          ]
        }
      ]
    },
    {
      "cell_type": "code",
      "metadata": {
        "colab": {
          "base_uri": "https://localhost:8080/"
        },
        "id": "6jjRY8B6GBEG",
        "outputId": "0e5fd440-5edd-461c-da95-133c98235413"
      },
      "source": [
        "for fn in upload_file.keys():\n",
        "  print('User uploaded file \"{name}\" with length {length} bytes'.format(\n",
        "      name=fn, length=len(upload_file[fn])))"
      ],
      "execution_count": 4,
      "outputs": [
        {
          "output_type": "stream",
          "name": "stdout",
          "text": [
            "User uploaded file \"ddos_test1.csv\" with length 3670085 bytes\n"
          ]
        }
      ]
    },
    {
      "cell_type": "code",
      "metadata": {
        "id": "pw-0gyuAGwTz"
      },
      "source": [
        "data = pd.read_csv(io.StringIO(upload_file['ddos_test1.csv'].decode('utf-8'))) # reading the CSV file and storing it under the name \"data\" "
      ],
      "execution_count": 5,
      "outputs": []
    },
    {
      "cell_type": "code",
      "metadata": {
        "colab": {
          "base_uri": "https://localhost:8080/"
        },
        "id": "_KXBY04PKXjl",
        "outputId": "bc7145d6-b014-4422-f8f3-9cfedf81cbb3"
      },
      "source": [
        "data.shape # defining the total rows and columns present (Here total rows can also be understood as the number of transmissions captured)"
      ],
      "execution_count": 6,
      "outputs": [
        {
          "output_type": "execute_result",
          "data": {
            "text/plain": [
              "(28753, 7)"
            ]
          },
          "metadata": {},
          "execution_count": 6
        }
      ]
    },
    {
      "cell_type": "code",
      "metadata": {
        "id": "dZUJvT4mKc_H"
      },
      "source": [
        "transmission_count = data.shape[0] # storing the rows/transmissions captured as \"transmission_count\""
      ],
      "execution_count": 7,
      "outputs": []
    },
    {
      "cell_type": "code",
      "metadata": {
        "colab": {
          "base_uri": "https://localhost:8080/",
          "height": 203
        },
        "id": "8_hTlr1rG3Wz",
        "outputId": "912918ce-e31c-4ebb-ebdd-22964fdc8b24"
      },
      "source": [
        "data.head() # representing the starting 5 data sets in \"data\""
      ],
      "execution_count": 8,
      "outputs": [
        {
          "output_type": "execute_result",
          "data": {
            "text/html": [
              "<div>\n",
              "<style scoped>\n",
              "    .dataframe tbody tr th:only-of-type {\n",
              "        vertical-align: middle;\n",
              "    }\n",
              "\n",
              "    .dataframe tbody tr th {\n",
              "        vertical-align: top;\n",
              "    }\n",
              "\n",
              "    .dataframe thead th {\n",
              "        text-align: right;\n",
              "    }\n",
              "</style>\n",
              "<table border=\"1\" class=\"dataframe\">\n",
              "  <thead>\n",
              "    <tr style=\"text-align: right;\">\n",
              "      <th></th>\n",
              "      <th>No.</th>\n",
              "      <th>Time</th>\n",
              "      <th>Source</th>\n",
              "      <th>Destination</th>\n",
              "      <th>Protocol</th>\n",
              "      <th>Length</th>\n",
              "      <th>Info</th>\n",
              "    </tr>\n",
              "  </thead>\n",
              "  <tbody>\n",
              "    <tr>\n",
              "      <th>0</th>\n",
              "      <td>1</td>\n",
              "      <td>0.000000</td>\n",
              "      <td>192.185.184.157</td>\n",
              "      <td>10.0.2.15</td>\n",
              "      <td>TCP</td>\n",
              "      <td>60</td>\n",
              "      <td>80  &gt;  45884 [FIN, ACK] Seq=1 Ack=1 Win=65535 ...</td>\n",
              "    </tr>\n",
              "    <tr>\n",
              "      <th>1</th>\n",
              "      <td>2</td>\n",
              "      <td>0.040792</td>\n",
              "      <td>10.0.2.15</td>\n",
              "      <td>192.185.184.157</td>\n",
              "      <td>TCP</td>\n",
              "      <td>54</td>\n",
              "      <td>45884  &gt;  80 [ACK] Seq=1 Ack=2 Win=63784 Len=0</td>\n",
              "    </tr>\n",
              "    <tr>\n",
              "      <th>2</th>\n",
              "      <td>3</td>\n",
              "      <td>0.079421</td>\n",
              "      <td>192.185.184.157</td>\n",
              "      <td>10.0.2.15</td>\n",
              "      <td>HTTP</td>\n",
              "      <td>570</td>\n",
              "      <td>HTTP/1.1 408 Request Timeout  (text/html)</td>\n",
              "    </tr>\n",
              "    <tr>\n",
              "      <th>3</th>\n",
              "      <td>4</td>\n",
              "      <td>0.079437</td>\n",
              "      <td>10.0.2.15</td>\n",
              "      <td>192.185.184.157</td>\n",
              "      <td>TCP</td>\n",
              "      <td>54</td>\n",
              "      <td>45888  &gt;  80 [ACK] Seq=1 Ack=517 Win=63784 Len=0</td>\n",
              "    </tr>\n",
              "    <tr>\n",
              "      <th>4</th>\n",
              "      <td>5</td>\n",
              "      <td>0.159054</td>\n",
              "      <td>192.185.184.157</td>\n",
              "      <td>10.0.2.15</td>\n",
              "      <td>TCP</td>\n",
              "      <td>60</td>\n",
              "      <td>80  &gt;  45994 [SYN, ACK] Seq=0 Ack=1 Win=65535 ...</td>\n",
              "    </tr>\n",
              "  </tbody>\n",
              "</table>\n",
              "</div>"
            ],
            "text/plain": [
              "   No.      Time  ... Length                                               Info\n",
              "0    1  0.000000  ...     60  80  >  45884 [FIN, ACK] Seq=1 Ack=1 Win=65535 ...\n",
              "1    2  0.040792  ...     54     45884  >  80 [ACK] Seq=1 Ack=2 Win=63784 Len=0\n",
              "2    3  0.079421  ...    570          HTTP/1.1 408 Request Timeout  (text/html)\n",
              "3    4  0.079437  ...     54   45888  >  80 [ACK] Seq=1 Ack=517 Win=63784 Len=0\n",
              "4    5  0.159054  ...     60  80  >  45994 [SYN, ACK] Seq=0 Ack=1 Win=65535 ...\n",
              "\n",
              "[5 rows x 7 columns]"
            ]
          },
          "metadata": {},
          "execution_count": 8
        }
      ]
    },
    {
      "cell_type": "code",
      "metadata": {
        "colab": {
          "base_uri": "https://localhost:8080/",
          "height": 203
        },
        "id": "p1MJCuRxG--M",
        "outputId": "986dbbac-2b22-4162-ee64-8ef888297e64"
      },
      "source": [
        "data.tail() # representing the ending 5 data sets in \"data\""
      ],
      "execution_count": 9,
      "outputs": [
        {
          "output_type": "execute_result",
          "data": {
            "text/html": [
              "<div>\n",
              "<style scoped>\n",
              "    .dataframe tbody tr th:only-of-type {\n",
              "        vertical-align: middle;\n",
              "    }\n",
              "\n",
              "    .dataframe tbody tr th {\n",
              "        vertical-align: top;\n",
              "    }\n",
              "\n",
              "    .dataframe thead th {\n",
              "        text-align: right;\n",
              "    }\n",
              "</style>\n",
              "<table border=\"1\" class=\"dataframe\">\n",
              "  <thead>\n",
              "    <tr style=\"text-align: right;\">\n",
              "      <th></th>\n",
              "      <th>No.</th>\n",
              "      <th>Time</th>\n",
              "      <th>Source</th>\n",
              "      <th>Destination</th>\n",
              "      <th>Protocol</th>\n",
              "      <th>Length</th>\n",
              "      <th>Info</th>\n",
              "    </tr>\n",
              "  </thead>\n",
              "  <tbody>\n",
              "    <tr>\n",
              "      <th>28748</th>\n",
              "      <td>28749</td>\n",
              "      <td>856.829587</td>\n",
              "      <td>10.0.2.15</td>\n",
              "      <td>192.185.184.157</td>\n",
              "      <td>TCP</td>\n",
              "      <td>75</td>\n",
              "      <td>49028  &gt;  80 [PSH, ACK] Seq=1 Ack=1 Win=64240 ...</td>\n",
              "    </tr>\n",
              "    <tr>\n",
              "      <th>28749</th>\n",
              "      <td>28750</td>\n",
              "      <td>856.829681</td>\n",
              "      <td>192.185.184.157</td>\n",
              "      <td>10.0.2.15</td>\n",
              "      <td>TCP</td>\n",
              "      <td>60</td>\n",
              "      <td>80  &gt;  49028 [ACK] Seq=1 Ack=22 Win=65535 Len=0</td>\n",
              "    </tr>\n",
              "    <tr>\n",
              "      <th>28750</th>\n",
              "      <td>28751</td>\n",
              "      <td>856.829686</td>\n",
              "      <td>10.0.2.15</td>\n",
              "      <td>192.185.184.157</td>\n",
              "      <td>TCP</td>\n",
              "      <td>216</td>\n",
              "      <td>GET /?1198 HTTP/1.1  [TCP segment of a reassem...</td>\n",
              "    </tr>\n",
              "    <tr>\n",
              "      <th>28751</th>\n",
              "      <td>28752</td>\n",
              "      <td>856.829795</td>\n",
              "      <td>192.185.184.157</td>\n",
              "      <td>10.0.2.15</td>\n",
              "      <td>TCP</td>\n",
              "      <td>60</td>\n",
              "      <td>80  &gt;  49028 [ACK] Seq=1 Ack=184 Win=65535 Len=0</td>\n",
              "    </tr>\n",
              "    <tr>\n",
              "      <th>28752</th>\n",
              "      <td>28753</td>\n",
              "      <td>856.829830</td>\n",
              "      <td>10.0.2.15</td>\n",
              "      <td>192.185.184.157</td>\n",
              "      <td>TCP</td>\n",
              "      <td>74</td>\n",
              "      <td>49030  &gt;  80 [SYN] Seq=0 Win=64240 Len=0 MSS=1...</td>\n",
              "    </tr>\n",
              "  </tbody>\n",
              "</table>\n",
              "</div>"
            ],
            "text/plain": [
              "         No.  ...                                               Info\n",
              "28748  28749  ...  49028  >  80 [PSH, ACK] Seq=1 Ack=1 Win=64240 ...\n",
              "28749  28750  ...    80  >  49028 [ACK] Seq=1 Ack=22 Win=65535 Len=0\n",
              "28750  28751  ...  GET /?1198 HTTP/1.1  [TCP segment of a reassem...\n",
              "28751  28752  ...   80  >  49028 [ACK] Seq=1 Ack=184 Win=65535 Len=0\n",
              "28752  28753  ...  49030  >  80 [SYN] Seq=0 Win=64240 Len=0 MSS=1...\n",
              "\n",
              "[5 rows x 7 columns]"
            ]
          },
          "metadata": {},
          "execution_count": 9
        }
      ]
    },
    {
      "cell_type": "code",
      "metadata": {
        "colab": {
          "base_uri": "https://localhost:8080/",
          "height": 295
        },
        "id": "sQjpXhhyHCLF",
        "outputId": "1f5d6f9c-e425-4deb-b7ed-ffdbdcc19269"
      },
      "source": [
        "data.describe() # description of the data present in the dataset \"data\""
      ],
      "execution_count": 10,
      "outputs": [
        {
          "output_type": "execute_result",
          "data": {
            "text/html": [
              "<div>\n",
              "<style scoped>\n",
              "    .dataframe tbody tr th:only-of-type {\n",
              "        vertical-align: middle;\n",
              "    }\n",
              "\n",
              "    .dataframe tbody tr th {\n",
              "        vertical-align: top;\n",
              "    }\n",
              "\n",
              "    .dataframe thead th {\n",
              "        text-align: right;\n",
              "    }\n",
              "</style>\n",
              "<table border=\"1\" class=\"dataframe\">\n",
              "  <thead>\n",
              "    <tr style=\"text-align: right;\">\n",
              "      <th></th>\n",
              "      <th>No.</th>\n",
              "      <th>Time</th>\n",
              "      <th>Length</th>\n",
              "    </tr>\n",
              "  </thead>\n",
              "  <tbody>\n",
              "    <tr>\n",
              "      <th>count</th>\n",
              "      <td>28753.000000</td>\n",
              "      <td>28753.000000</td>\n",
              "      <td>28753.000000</td>\n",
              "    </tr>\n",
              "    <tr>\n",
              "      <th>mean</th>\n",
              "      <td>14377.000000</td>\n",
              "      <td>387.491256</td>\n",
              "      <td>277.277849</td>\n",
              "    </tr>\n",
              "    <tr>\n",
              "      <th>std</th>\n",
              "      <td>8300.420481</td>\n",
              "      <td>243.610121</td>\n",
              "      <td>712.321905</td>\n",
              "    </tr>\n",
              "    <tr>\n",
              "      <th>min</th>\n",
              "      <td>1.000000</td>\n",
              "      <td>0.000000</td>\n",
              "      <td>54.000000</td>\n",
              "    </tr>\n",
              "    <tr>\n",
              "      <th>25%</th>\n",
              "      <td>7189.000000</td>\n",
              "      <td>187.627468</td>\n",
              "      <td>54.000000</td>\n",
              "    </tr>\n",
              "    <tr>\n",
              "      <th>50%</th>\n",
              "      <td>14377.000000</td>\n",
              "      <td>324.368047</td>\n",
              "      <td>60.000000</td>\n",
              "    </tr>\n",
              "    <tr>\n",
              "      <th>75%</th>\n",
              "      <td>21565.000000</td>\n",
              "      <td>610.634514</td>\n",
              "      <td>84.000000</td>\n",
              "    </tr>\n",
              "    <tr>\n",
              "      <th>max</th>\n",
              "      <td>28753.000000</td>\n",
              "      <td>856.829830</td>\n",
              "      <td>47150.000000</td>\n",
              "    </tr>\n",
              "  </tbody>\n",
              "</table>\n",
              "</div>"
            ],
            "text/plain": [
              "                No.          Time        Length\n",
              "count  28753.000000  28753.000000  28753.000000\n",
              "mean   14377.000000    387.491256    277.277849\n",
              "std     8300.420481    243.610121    712.321905\n",
              "min        1.000000      0.000000     54.000000\n",
              "25%     7189.000000    187.627468     54.000000\n",
              "50%    14377.000000    324.368047     60.000000\n",
              "75%    21565.000000    610.634514     84.000000\n",
              "max    28753.000000    856.829830  47150.000000"
            ]
          },
          "metadata": {},
          "execution_count": 10
        }
      ]
    },
    {
      "cell_type": "code",
      "metadata": {
        "colab": {
          "base_uri": "https://localhost:8080/"
        },
        "id": "S8o6xWkkRGLy",
        "outputId": "a6d46912-1135-4e3a-bc4f-547208389612"
      },
      "source": [
        "data.Source # listing the Source IP's present in the captured file"
      ],
      "execution_count": 11,
      "outputs": [
        {
          "output_type": "execute_result",
          "data": {
            "text/plain": [
              "0        192.185.184.157\n",
              "1              10.0.2.15\n",
              "2        192.185.184.157\n",
              "3              10.0.2.15\n",
              "4        192.185.184.157\n",
              "              ...       \n",
              "28748          10.0.2.15\n",
              "28749    192.185.184.157\n",
              "28750          10.0.2.15\n",
              "28751    192.185.184.157\n",
              "28752          10.0.2.15\n",
              "Name: Source, Length: 28753, dtype: object"
            ]
          },
          "metadata": {},
          "execution_count": 11
        }
      ]
    },
    {
      "cell_type": "code",
      "metadata": {
        "colab": {
          "base_uri": "https://localhost:8080/"
        },
        "id": "mSGUJUzAOQCS",
        "outputId": "5e0cd8e0-ba89-4353-e442-23c8175c1c0f"
      },
      "source": [
        "source = data.Source \n",
        "source.nunique() # finding the unique IP's present in the Source column"
      ],
      "execution_count": 12,
      "outputs": [
        {
          "output_type": "execute_result",
          "data": {
            "text/plain": [
              "33"
            ]
          },
          "metadata": {},
          "execution_count": 12
        }
      ]
    },
    {
      "cell_type": "code",
      "metadata": {
        "colab": {
          "base_uri": "https://localhost:8080/"
        },
        "id": "LriVAQYUTWcX",
        "outputId": "0d96884d-5170-4659-96e1-b8ba3d256fe3"
      },
      "source": [
        "destination = data.Destination\n",
        "destination.nunique() # finding the unique IP's present in the Destination column"
      ],
      "execution_count": 13,
      "outputs": [
        {
          "output_type": "execute_result",
          "data": {
            "text/plain": [
              "33"
            ]
          },
          "metadata": {},
          "execution_count": 13
        }
      ]
    },
    {
      "cell_type": "code",
      "metadata": {
        "id": "V5DQtutcBKjm",
        "colab": {
          "base_uri": "https://localhost:8080/"
        },
        "outputId": "0937623a-de94-4b8d-bf1e-f2af66c0b445"
      },
      "source": [
        "new_source = source.drop_duplicates() # removing the all the duplicates from the Source column\n",
        "source_list = list(new_source) # creating list of all the unique IP's \n",
        "source_list\n",
        "print(len(source_list))"
      ],
      "execution_count": 14,
      "outputs": [
        {
          "output_type": "stream",
          "name": "stdout",
          "text": [
            "33\n"
          ]
        }
      ]
    },
    {
      "cell_type": "code",
      "metadata": {
        "id": "12qqvrgRHOUy"
      },
      "source": [
        "major_ips = [] # empty list for keeping the majorly participating IP\n",
        "minor_ips = [] # empty list for keeping the less participating IP\n",
        "for i in source_list:\n",
        "  analyse_ip = data[data.Source == i]\n",
        "  transmission_of_ip = analyse_ip.shape[0]\n",
        "  set_criteria = (transmission_count * 35)/100\n",
        "  # print(set_criteria)\n",
        "  if transmission_of_ip > set_criteria:\n",
        "    major_ips.append(i)\n",
        "  else:\n",
        "    minor_ips.append(i)"
      ],
      "execution_count": 15,
      "outputs": []
    },
    {
      "cell_type": "code",
      "metadata": {
        "colab": {
          "base_uri": "https://localhost:8080/"
        },
        "id": "z_-hzBeTOMPq",
        "outputId": "3214783b-c91f-46c2-a7c1-db187e53db90"
      },
      "source": [
        "major_ips # list of actively participating ip"
      ],
      "execution_count": 16,
      "outputs": [
        {
          "output_type": "execute_result",
          "data": {
            "text/plain": [
              "['192.185.184.157', '10.0.2.15']"
            ]
          },
          "metadata": {},
          "execution_count": 16
        }
      ]
    },
    {
      "cell_type": "code",
      "metadata": {
        "colab": {
          "base_uri": "https://localhost:8080/"
        },
        "id": "psCT_FcdOUWl",
        "outputId": "63aaf2fd-1c15-491f-f5e7-bd999c2b7986"
      },
      "source": [
        "minor_ips # list of less active ip"
      ],
      "execution_count": 17,
      "outputs": [
        {
          "output_type": "execute_result",
          "data": {
            "text/plain": [
              "['192.168.43.1',\n",
              " '13.227.214.62',\n",
              " '13.227.138.72',\n",
              " '142.250.195.74',\n",
              " '34.215.244.109',\n",
              " '142.250.183.227',\n",
              " '117.18.237.29',\n",
              " '142.250.192.68',\n",
              " '142.250.76.35',\n",
              " '142.250.182.131',\n",
              " '142.250.205.238',\n",
              " '142.250.77.97',\n",
              " '142.250.76.66',\n",
              " '142.250.182.66',\n",
              " '142.250.195.194',\n",
              " '23.15.34.57',\n",
              " '54.182.0.123',\n",
              " '172.217.163.202',\n",
              " '37.187.129.45',\n",
              " '13.235.26.255',\n",
              " '54.182.1.18',\n",
              " '157.240.16.20',\n",
              " '172.217.160.142',\n",
              " '142.251.12.156',\n",
              " '157.240.16.35',\n",
              " '13.227.166.81',\n",
              " '142.250.76.74',\n",
              " '142.250.195.78',\n",
              " '142.251.10.156',\n",
              " '142.250.192.3',\n",
              " '142.250.195.36']"
            ]
          },
          "metadata": {},
          "execution_count": 17
        }
      ]
    },
    {
      "cell_type": "code",
      "metadata": {
        "id": "ITi84L5XKqxN"
      },
      "source": [
        "#@title Analysis of the major IP's { display-mode: \"form\" }\n"
      ],
      "execution_count": 18,
      "outputs": []
    },
    {
      "cell_type": "code",
      "metadata": {
        "id": "BD8SuG2My18W",
        "colab": {
          "base_uri": "https://localhost:8080/"
        },
        "outputId": "25d23497-958a-4d9e-e88c-27cb7fbebd45"
      },
      "source": [
        "for i in major_ips:\n",
        "  dest_list_of_major_ip = list(data[data.Source == i].Destination.drop_duplicates()) # transmitted destination list of major IP\n",
        "  major_df = pd.DataFrame(\n",
        "      [\n",
        "       (\n",
        "           i,\n",
        "           dest_list_of_major_ip,\n",
        "           f'{data[data.Source == i].Protocol.max()}',\n",
        "           f'{data[data.Source == i].Length.sum()}',\n",
        "           'Attack'\n",
        "       )\n",
        "      ],\n",
        "      columns=(\n",
        "          'Source', 'Destination', 'Max_Protocol', 'Total_Length', 'Result'\n",
        "          )\n",
        "                 )\n",
        "  major_df.to_csv (f'result_of_{i}.csv', index = False, header=True)\n",
        "  print(major_df.head())\n",
        "  print(major_df.Destination)"
      ],
      "execution_count": 19,
      "outputs": [
        {
          "output_type": "stream",
          "name": "stdout",
          "text": [
            "            Source  Destination Max_Protocol Total_Length  Result\n",
            "0  192.185.184.157  [10.0.2.15]      TLSv1.3      5504122  Attack\n",
            "0    [10.0.2.15]\n",
            "Name: Destination, dtype: object\n",
            "      Source  ...  Result\n",
            "0  10.0.2.15  ...  Attack\n",
            "\n",
            "[1 rows x 5 columns]\n",
            "0    [192.185.184.157, 192.168.43.1, 13.227.214.62,...\n",
            "Name: Destination, dtype: object\n"
          ]
        }
      ]
    },
    {
      "cell_type": "code",
      "metadata": {
        "id": "l5TUQH8tA_bo"
      },
      "source": [
        "a = data[data.Source == '10.0.2.15'] \n",
        "b = a[a.Destination == '192.185.184.157']\n",
        "b # transmission between the major IP \"a\" = '10.0.2.15' to \"b\" = '192.185.184.157'\n",
        "\n",
        "b.to_csv (r'transmission_1.csv', index = False, header=True)"
      ],
      "execution_count": 20,
      "outputs": []
    },
    {
      "cell_type": "code",
      "metadata": {
        "id": "PTjqYmm6GIDL"
      },
      "source": [
        "c = data[data.Source == '192.185.184.157']\n",
        "d = c[c.Destination == '10.0.2.15']\n",
        "d # transmission between the major IP \"c\" = '192.185.184.157' to \"d\" = '10.0.2.15'\n",
        "\n",
        "d.to_csv (r'transmission_2.csv', index = False, header=True)"
      ],
      "execution_count": 21,
      "outputs": []
    },
    {
      "cell_type": "code",
      "metadata": {
        "id": "XFtNq8wRQPyH"
      },
      "source": [
        "#@title Analysis of the Minor IP { display-mode: \"form\" }\n"
      ],
      "execution_count": 22,
      "outputs": []
    },
    {
      "cell_type": "code",
      "metadata": {
        "id": "P4qoJg8zvZ-T"
      },
      "source": [
        "for j in minor_ips:\n",
        "  dest_list_of_minor_ip = list(data[data.Source == j].Destination.drop_duplicates()) # transmitted destination list of minor IP\n",
        "  if data[data.Source == j].Length.sum() <= 13000:\n",
        "    naive_df = pd.DataFrame(\n",
        "    [\n",
        "     (j, \n",
        "      dest_list_of_minor_ip,\n",
        "      f'{data[data.Source == j].Protocol.max()}', \n",
        "      f'{data[data.Source == j].Length.sum()}', \n",
        "      'Naive'),\n",
        "    ],\n",
        "    columns=(\n",
        "        'Source', 'Destination', 'Max_Protocol', 'Total_Length', 'Result'\n",
        "        )\n",
        "                 )\n",
        "    # print(naive_df)\n",
        "    # print('==========================================================')\n",
        "\n",
        "  else:\n",
        "    suspicious_df = pd.DataFrame(\n",
        "    [\n",
        "     (j, \n",
        "      dest_list_of_minor_ip,\n",
        "      f'{data[data.Source == j].Protocol.max()}', \n",
        "      f'{data[data.Source == j].Length.sum()}', \n",
        "      'Suspicious'),\n",
        "    ],\n",
        "    columns=(\n",
        "        'Source', 'Destination', 'Max_Protocol', 'Total_Length', 'Result'\n",
        "        )\n",
        "                 )\n",
        "    # print(suspicious_df)\n",
        "    # print('==========================================================')\n",
        "  \n"
      ],
      "execution_count": 23,
      "outputs": []
    },
    {
      "cell_type": "code",
      "metadata": {
        "id": "xoGJjF_jW1kQ"
      },
      "source": [
        ""
      ],
      "execution_count": 24,
      "outputs": []
    }
  ]
}